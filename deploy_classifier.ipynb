{
 "cells": [
  {
   "cell_type": "code",
   "execution_count": 1,
   "metadata": {},
   "outputs": [
    {
     "name": "stdout",
     "output_type": "stream",
     "text": [
      "Requirement already satisfied: voila in /home/erfan/anaconda3/envs/fastai_journey/lib/python3.7/site-packages (0.2.6)\n",
      "Requirement already satisfied: nbclient<0.6,>=0.4.0 in /home/erfan/anaconda3/envs/fastai_journey/lib/python3.7/site-packages (from voila) (0.5.1)\n",
      "Requirement already satisfied: jupyter-server<2.0.0,>=0.3.0 in /home/erfan/anaconda3/envs/fastai_journey/lib/python3.7/site-packages (from voila) (1.2.2)\n",
      "Requirement already satisfied: nbconvert<7,>=6.0.0 in /home/erfan/anaconda3/envs/fastai_journey/lib/python3.7/site-packages (from voila) (6.0.7)\n",
      "Requirement already satisfied: jupyter-client<7,>=6.1.3 in /home/erfan/anaconda3/envs/fastai_journey/lib/python3.7/site-packages (from voila) (6.1.7)\n",
      "Requirement already satisfied: traitlets in /home/erfan/anaconda3/envs/fastai_journey/lib/python3.7/site-packages (from jupyter-client<7,>=6.1.3->voila) (5.0.5)\n",
      "Requirement already satisfied: tornado>=4.1 in /home/erfan/anaconda3/envs/fastai_journey/lib/python3.7/site-packages (from jupyter-client<7,>=6.1.3->voila) (6.1)\n",
      "Requirement already satisfied: jupyter-core>=4.6.0 in /home/erfan/anaconda3/envs/fastai_journey/lib/python3.7/site-packages (from jupyter-client<7,>=6.1.3->voila) (4.6.3)\n",
      "Requirement already satisfied: pyzmq>=13 in /home/erfan/anaconda3/envs/fastai_journey/lib/python3.7/site-packages (from jupyter-client<7,>=6.1.3->voila) (19.0.2)\n",
      "Requirement already satisfied: python-dateutil>=2.1 in /home/erfan/anaconda3/envs/fastai_journey/lib/python3.7/site-packages (from jupyter-client<7,>=6.1.3->voila) (2.8.1)\n",
      "Requirement already satisfied: anyio>=2.0.2 in /home/erfan/anaconda3/envs/fastai_journey/lib/python3.7/site-packages (from jupyter-server<2.0.0,>=0.3.0->voila) (2.0.2)\n",
      "Requirement already satisfied: Send2Trash in /home/erfan/anaconda3/envs/fastai_journey/lib/python3.7/site-packages (from jupyter-server<2.0.0,>=0.3.0->voila) (1.5.0)\n",
      "Requirement already satisfied: terminado>=0.8.3 in /home/erfan/anaconda3/envs/fastai_journey/lib/python3.7/site-packages (from jupyter-server<2.0.0,>=0.3.0->voila) (0.9.1)\n",
      "Requirement already satisfied: ipython-genutils in /home/erfan/anaconda3/envs/fastai_journey/lib/python3.7/site-packages (from jupyter-server<2.0.0,>=0.3.0->voila) (0.2.0)\n",
      "Requirement already satisfied: jinja2 in /home/erfan/anaconda3/envs/fastai_journey/lib/python3.7/site-packages (from jupyter-server<2.0.0,>=0.3.0->voila) (2.11.2)\n",
      "Requirement already satisfied: nbformat in /home/erfan/anaconda3/envs/fastai_journey/lib/python3.7/site-packages (from jupyter-server<2.0.0,>=0.3.0->voila) (5.0.8)\n",
      "Requirement already satisfied: prometheus-client in /home/erfan/anaconda3/envs/fastai_journey/lib/python3.7/site-packages (from jupyter-server<2.0.0,>=0.3.0->voila) (0.8.0)\n",
      "Requirement already satisfied: sniffio>=1.1 in /home/erfan/anaconda3/envs/fastai_journey/lib/python3.7/site-packages (from anyio>=2.0.2->jupyter-server<2.0.0,>=0.3.0->voila) (1.2.0)\n",
      "Requirement already satisfied: typing-extensions in /home/erfan/anaconda3/envs/fastai_journey/lib/python3.7/site-packages (from anyio>=2.0.2->jupyter-server<2.0.0,>=0.3.0->voila) (3.7.4.3)\n",
      "Requirement already satisfied: idna>=2.8 in /home/erfan/anaconda3/envs/fastai_journey/lib/python3.7/site-packages (from anyio>=2.0.2->jupyter-server<2.0.0,>=0.3.0->voila) (2.10)\n",
      "Requirement already satisfied: async-generator in /home/erfan/anaconda3/envs/fastai_journey/lib/python3.7/site-packages (from nbclient<0.6,>=0.4.0->voila) (1.10)\n",
      "Requirement already satisfied: nest-asyncio in /home/erfan/anaconda3/envs/fastai_journey/lib/python3.7/site-packages (from nbclient<0.6,>=0.4.0->voila) (1.4.1)\n",
      "Requirement already satisfied: mistune<2,>=0.8.1 in /home/erfan/anaconda3/envs/fastai_journey/lib/python3.7/site-packages (from nbconvert<7,>=6.0.0->voila) (0.8.4)\n",
      "Requirement already satisfied: pandocfilters>=1.4.1 in /home/erfan/anaconda3/envs/fastai_journey/lib/python3.7/site-packages (from nbconvert<7,>=6.0.0->voila) (1.4.2)\n",
      "Requirement already satisfied: defusedxml in /home/erfan/anaconda3/envs/fastai_journey/lib/python3.7/site-packages (from nbconvert<7,>=6.0.0->voila) (0.6.0)\n",
      "Requirement already satisfied: bleach in /home/erfan/anaconda3/envs/fastai_journey/lib/python3.7/site-packages (from nbconvert<7,>=6.0.0->voila) (3.2.1)\n",
      "Requirement already satisfied: testpath in /home/erfan/anaconda3/envs/fastai_journey/lib/python3.7/site-packages (from nbconvert<7,>=6.0.0->voila) (0.4.4)\n",
      "Requirement already satisfied: entrypoints>=0.2.2 in /home/erfan/anaconda3/envs/fastai_journey/lib/python3.7/site-packages (from nbconvert<7,>=6.0.0->voila) (0.3)\n",
      "Requirement already satisfied: pygments>=2.4.1 in /home/erfan/anaconda3/envs/fastai_journey/lib/python3.7/site-packages (from nbconvert<7,>=6.0.0->voila) (2.7.1)\n",
      "Requirement already satisfied: jupyterlab-pygments in /home/erfan/anaconda3/envs/fastai_journey/lib/python3.7/site-packages (from nbconvert<7,>=6.0.0->voila) (0.1.2)\n",
      "Requirement already satisfied: MarkupSafe>=0.23 in /home/erfan/anaconda3/envs/fastai_journey/lib/python3.7/site-packages (from jinja2->jupyter-server<2.0.0,>=0.3.0->voila) (1.1.1)\n",
      "Requirement already satisfied: jsonschema!=2.5.0,>=2.4 in /home/erfan/anaconda3/envs/fastai_journey/lib/python3.7/site-packages (from nbformat->jupyter-server<2.0.0,>=0.3.0->voila) (3.0.2)\n",
      "Requirement already satisfied: six>=1.11.0 in /home/erfan/anaconda3/envs/fastai_journey/lib/python3.7/site-packages (from jsonschema!=2.5.0,>=2.4->nbformat->jupyter-server<2.0.0,>=0.3.0->voila) (1.15.0)\n",
      "Requirement already satisfied: attrs>=17.4.0 in /home/erfan/anaconda3/envs/fastai_journey/lib/python3.7/site-packages (from jsonschema!=2.5.0,>=2.4->nbformat->jupyter-server<2.0.0,>=0.3.0->voila) (20.2.0)\n",
      "Requirement already satisfied: pyrsistent>=0.14.0 in /home/erfan/anaconda3/envs/fastai_journey/lib/python3.7/site-packages (from jsonschema!=2.5.0,>=2.4->nbformat->jupyter-server<2.0.0,>=0.3.0->voila) (0.17.3)\n",
      "Requirement already satisfied: setuptools in /home/erfan/anaconda3/envs/fastai_journey/lib/python3.7/site-packages (from jsonschema!=2.5.0,>=2.4->nbformat->jupyter-server<2.0.0,>=0.3.0->voila) (51.1.2.post20210112)\n",
      "Requirement already satisfied: ptyprocess in /home/erfan/anaconda3/envs/fastai_journey/lib/python3.7/site-packages (from terminado>=0.8.3->jupyter-server<2.0.0,>=0.3.0->voila) (0.6.0)\n",
      "Requirement already satisfied: webencodings in /home/erfan/anaconda3/envs/fastai_journey/lib/python3.7/site-packages (from bleach->nbconvert<7,>=6.0.0->voila) (0.5.1)\n",
      "Requirement already satisfied: packaging in /home/erfan/anaconda3/envs/fastai_journey/lib/python3.7/site-packages (from bleach->nbconvert<7,>=6.0.0->voila) (20.4)\n",
      "Requirement already satisfied: pyparsing>=2.0.2 in /home/erfan/anaconda3/envs/fastai_journey/lib/python3.7/site-packages (from packaging->bleach->nbconvert<7,>=6.0.0->voila) (2.4.7)\n",
      "Enabling: voila\n",
      "- Writing config: /home/erfan/anaconda3/envs/fastai_journey/etc/jupyter\n",
      "    - Validating...\n",
      "      voila 0.2.6 \u001b[32mOK\u001b[0m\n"
     ]
    }
   ],
   "source": [
    "!pip install  voila \n",
    "!jupyter serverextension enable voila --sys-prefix\n",
    "\n",
    "from fastai.vision.all import *\n",
    "import fastbook \n",
    "\n",
    "from fastbook import *\n",
    "from fastai.vision.widgets import *\n",
    "import os \n",
    "\n"
   ]
  },
  {
   "cell_type": "markdown",
   "metadata": {},
   "source": [
    "#                             Mark Walhberg vs Matt Damon Classifier \n",
    "\n",
    "### Two fine actors , one from Boston and the other , Jimmy Kimmel's old nemesis. \n",
    "### Yet , I often get confused between the two. Therefore I put deep learning into good use and built this simple end-to-end machine learning system. Script includes gathering data, trainining , predicting and deploying. "
   ]
  },
  {
   "cell_type": "code",
   "execution_count": 5,
   "metadata": {},
   "outputs": [],
   "source": [
    "path = Path('')\n",
    "learn_inf = load_learner(path/'export.pkl')"
   ]
  },
  {
   "cell_type": "code",
   "execution_count": 23,
   "metadata": {},
   "outputs": [],
   "source": [
    "def on_click_classify(change) : \n",
    "    \n",
    "    img = PILImage.create(btn_upload.data[-1])\n",
    "    out_pl.clear_output() \n",
    "    with out_pl : \n",
    "        display(img.to_thumb(128,128))\n",
    "        pred,pred_idx,probs = learn_inf.predict(img)\n",
    "        lbl_pred.value = f\"Prediction : {pred}, Probability : {probs[pred_idx] : .04f}\"\n",
    "\n",
    "out_pl = widgets.Output() \n",
    "lbl_pred = widgets.Label() \n",
    "btn_upload = widgets.FileUpload() \n",
    "\n"
   ]
  },
  {
   "cell_type": "code",
   "execution_count": 24,
   "metadata": {},
   "outputs": [
    {
     "data": {
      "application/vnd.jupyter.widget-view+json": {
       "model_id": "808f7f3860384a91939e63b3f45a69f3",
       "version_major": 2,
       "version_minor": 0
      },
      "text/plain": [
       "VBox(children=(Label(value='Select Actor'), FileUpload(value={}, description='Upload'), Button(description='Cl…"
      ]
     },
     "metadata": {},
     "output_type": "display_data"
    }
   ],
   "source": [
    "btn_run =  widgets.Button(description=\"Classify\")\n",
    "btn_run.on_click(on_click_classify)\n",
    "VBox([widgets.Label('Select Actor'), btn_upload, btn_run, out_pl , lbl_pred])"
   ]
  },
  {
   "cell_type": "code",
   "execution_count": null,
   "metadata": {},
   "outputs": [],
   "source": []
  },
  {
   "cell_type": "code",
   "execution_count": null,
   "metadata": {},
   "outputs": [],
   "source": []
  }
 ],
 "metadata": {
  "kernelspec": {
   "display_name": "Python 3",
   "language": "python",
   "name": "python3"
  },
  "language_info": {
   "codemirror_mode": {
    "name": "ipython",
    "version": 3
   },
   "file_extension": ".py",
   "mimetype": "text/x-python",
   "name": "python",
   "nbconvert_exporter": "python",
   "pygments_lexer": "ipython3",
   "version": "3.7.9"
  }
 },
 "nbformat": 4,
 "nbformat_minor": 4
}
